{
 "cells": [
  {
   "cell_type": "markdown",
   "metadata": {},
   "source": [
    "# Introduction to the problem\n",
    "<br>\n",
    "Fundamental analysis using Regression\n",
    "<br><br>\n",
    "This module would introduce us to the Regression related inferences to be drawn from the data.\n",
    "Regression is basically a statistical approach to find the relationship between variables. In machine learning, this is used to\n",
    "predict the outcome of an event based on the relationship between variables obtained from the data-set. More often than\n",
    "not, we utilize linear regression to come up with an ideal inference. We'd be using the regression model to solve the\n",
    "following problems:\n"
   ]
  },
  {
   "cell_type": "code",
   "execution_count": 1,
   "metadata": {},
   "outputs": [],
   "source": [
    "import numpy as np\n",
    "import pandas as pd\n",
    "import matplotlib.pyplot as plt\n",
    "import seaborn as sns #seaborn is more compatible library when we are comparing two data series\n",
    "import warnings\n",
    "warnings.filterwarnings('ignore')"
   ]
  },
  {
   "cell_type": "markdown",
   "metadata": {},
   "source": [
    "<b> Problem Statement 3.1</b><br><br>\n",
    "Import the file 'gold.csv' (you will find this in the intro section to download or in '/Data/gold.csv' if you are using the\n",
    "jupyter notebook), which contains the data of the last 2 years price action of Indian (MCX) gold standard. Explore the\n",
    "dataframe. You'd see 2 unique columns - 'Pred' and 'new'. One of the 2 columns is a linear combination of the OHLC prices\n",
    "with varying coefficients while the other is a polynomial function of the same inputs. Also, one of the 2 columns is partially filled. <br><br>\n",
    " Using linear regression, find the coefficients of the inputs and using the same trained model, complete the entire\n",
    "column.<br><br>\n",
    " Also, try to fit the other column as well using a new linear regression model. Check if the predictions are accurate.\n",
    "Mention which column is a linear function and which is polynomial.\n",
    "(Hint: Plotting a histogram & distplot helps in recognizing the discrepencies in prediction, if any.)"
   ]
  },
  {
   "cell_type": "code",
   "execution_count": 2,
   "metadata": {},
   "outputs": [],
   "source": [
    "data=pd.read_csv('data/GOLD.csv')"
   ]
  },
  {
   "cell_type": "code",
   "execution_count": 3,
   "metadata": {},
   "outputs": [
    {
     "data": {
      "text/plain": [
       "(512, 9)"
      ]
     },
     "execution_count": 3,
     "metadata": {},
     "output_type": "execute_result"
    }
   ],
   "source": [
    "data.shape\n"
   ]
  },
  {
   "cell_type": "code",
   "execution_count": 4,
   "metadata": {},
   "outputs": [
    {
     "data": {
      "text/html": [
       "<div>\n",
       "<style scoped>\n",
       "    .dataframe tbody tr th:only-of-type {\n",
       "        vertical-align: middle;\n",
       "    }\n",
       "\n",
       "    .dataframe tbody tr th {\n",
       "        vertical-align: top;\n",
       "    }\n",
       "\n",
       "    .dataframe thead th {\n",
       "        text-align: right;\n",
       "    }\n",
       "</style>\n",
       "<table border=\"1\" class=\"dataframe\">\n",
       "  <thead>\n",
       "    <tr style=\"text-align: right;\">\n",
       "      <th></th>\n",
       "      <th>Date</th>\n",
       "      <th>Price</th>\n",
       "      <th>Open</th>\n",
       "      <th>High</th>\n",
       "      <th>Low</th>\n",
       "      <th>Vol.</th>\n",
       "      <th>Change %</th>\n",
       "      <th>Pred</th>\n",
       "      <th>new</th>\n",
       "    </tr>\n",
       "  </thead>\n",
       "  <tbody>\n",
       "    <tr>\n",
       "      <th>0</th>\n",
       "      <td>May 04, 2017</td>\n",
       "      <td>28060</td>\n",
       "      <td>28400</td>\n",
       "      <td>28482</td>\n",
       "      <td>28025</td>\n",
       "      <td>0.08K</td>\n",
       "      <td>-1.79%</td>\n",
       "      <td>738.0</td>\n",
       "      <td>117.570740</td>\n",
       "    </tr>\n",
       "    <tr>\n",
       "      <th>1</th>\n",
       "      <td>May 05, 2017</td>\n",
       "      <td>28184</td>\n",
       "      <td>28136</td>\n",
       "      <td>28382</td>\n",
       "      <td>28135</td>\n",
       "      <td>0.06K</td>\n",
       "      <td>0.44%</td>\n",
       "      <td>-146.0</td>\n",
       "      <td>295.430176</td>\n",
       "    </tr>\n",
       "    <tr>\n",
       "      <th>2</th>\n",
       "      <td>May 08, 2017</td>\n",
       "      <td>28119</td>\n",
       "      <td>28145</td>\n",
       "      <td>28255</td>\n",
       "      <td>28097</td>\n",
       "      <td>7.85K</td>\n",
       "      <td>-0.23%</td>\n",
       "      <td>30.0</td>\n",
       "      <td>132.123714</td>\n",
       "    </tr>\n",
       "    <tr>\n",
       "      <th>3</th>\n",
       "      <td>May 09, 2017</td>\n",
       "      <td>27981</td>\n",
       "      <td>28125</td>\n",
       "      <td>28192</td>\n",
       "      <td>27947</td>\n",
       "      <td>10.10K</td>\n",
       "      <td>-0.49%</td>\n",
       "      <td>357.0</td>\n",
       "      <td>101.298064</td>\n",
       "    </tr>\n",
       "    <tr>\n",
       "      <th>4</th>\n",
       "      <td>May 10, 2017</td>\n",
       "      <td>28007</td>\n",
       "      <td>28060</td>\n",
       "      <td>28146</td>\n",
       "      <td>27981</td>\n",
       "      <td>9.28K</td>\n",
       "      <td>0.09%</td>\n",
       "      <td>124.0</td>\n",
       "      <td>112.153318</td>\n",
       "    </tr>\n",
       "  </tbody>\n",
       "</table>\n",
       "</div>"
      ],
      "text/plain": [
       "           Date  Price   Open   High    Low    Vol. Change %   Pred  \\\n",
       "0  May 04, 2017  28060  28400  28482  28025   0.08K   -1.79%  738.0   \n",
       "1  May 05, 2017  28184  28136  28382  28135   0.06K    0.44% -146.0   \n",
       "2  May 08, 2017  28119  28145  28255  28097   7.85K   -0.23%   30.0   \n",
       "3  May 09, 2017  27981  28125  28192  27947  10.10K   -0.49%  357.0   \n",
       "4  May 10, 2017  28007  28060  28146  27981   9.28K    0.09%  124.0   \n",
       "\n",
       "          new  \n",
       "0  117.570740  \n",
       "1  295.430176  \n",
       "2  132.123714  \n",
       "3  101.298064  \n",
       "4  112.153318  "
      ]
     },
     "execution_count": 4,
     "metadata": {},
     "output_type": "execute_result"
    }
   ],
   "source": [
    "data.head()"
   ]
  },
  {
   "cell_type": "code",
   "execution_count": 5,
   "metadata": {},
   "outputs": [
    {
     "data": {
      "text/plain": [
       "Date          0\n",
       "Price         0\n",
       "Open          0\n",
       "High          0\n",
       "Low           0\n",
       "Vol.          0\n",
       "Change %      0\n",
       "Pred        101\n",
       "new           0\n",
       "dtype: int64"
      ]
     },
     "execution_count": 5,
     "metadata": {},
     "output_type": "execute_result"
    }
   ],
   "source": [
    "data.isnull().sum()"
   ]
  },
  {
   "cell_type": "code",
   "execution_count": 6,
   "metadata": {},
   "outputs": [],
   "source": [
    "data_lr=data.dropna()"
   ]
  },
  {
   "cell_type": "code",
   "execution_count": 7,
   "metadata": {},
   "outputs": [
    {
     "data": {
      "text/plain": [
       "(411, 9)"
      ]
     },
     "execution_count": 7,
     "metadata": {},
     "output_type": "execute_result"
    }
   ],
   "source": [
    "data_lr.shape\n"
   ]
  },
  {
   "cell_type": "code",
   "execution_count": 8,
   "metadata": {},
   "outputs": [],
   "source": [
    "X=data_lr[['Price', 'Open','High','Low']] #importing dependent and independent variables.\n",
    "y=data_lr['Pred']"
   ]
  },
  {
   "cell_type": "code",
   "execution_count": 9,
   "metadata": {},
   "outputs": [],
   "source": [
    "from sklearn.model_selection import train_test_split #sklearn is an important library for ml, the train_test_split the problem\n",
    "#into two parts training set and test set\n",
    "X_train, X_test, y_train, y_test=train_test_split(X,y,test_size=0.33,random_state=42)#here taking 1/3 of the data as test set and \n",
    "#random_state is used to randomize the index\n"
   ]
  },
  {
   "cell_type": "code",
   "execution_count": 10,
   "metadata": {},
   "outputs": [
    {
     "data": {
      "text/html": [
       "<div>\n",
       "<style scoped>\n",
       "    .dataframe tbody tr th:only-of-type {\n",
       "        vertical-align: middle;\n",
       "    }\n",
       "\n",
       "    .dataframe tbody tr th {\n",
       "        vertical-align: top;\n",
       "    }\n",
       "\n",
       "    .dataframe thead th {\n",
       "        text-align: right;\n",
       "    }\n",
       "</style>\n",
       "<table border=\"1\" class=\"dataframe\">\n",
       "  <thead>\n",
       "    <tr style=\"text-align: right;\">\n",
       "      <th></th>\n",
       "      <th>Price</th>\n",
       "      <th>Open</th>\n",
       "      <th>High</th>\n",
       "      <th>Low</th>\n",
       "    </tr>\n",
       "  </thead>\n",
       "  <tbody>\n",
       "    <tr>\n",
       "      <th>382</th>\n",
       "      <td>31631</td>\n",
       "      <td>31650</td>\n",
       "      <td>31780</td>\n",
       "      <td>31590</td>\n",
       "    </tr>\n",
       "    <tr>\n",
       "      <th>181</th>\n",
       "      <td>29761</td>\n",
       "      <td>29876</td>\n",
       "      <td>29884</td>\n",
       "      <td>29705</td>\n",
       "    </tr>\n",
       "    <tr>\n",
       "      <th>119</th>\n",
       "      <td>29541</td>\n",
       "      <td>29600</td>\n",
       "      <td>29622</td>\n",
       "      <td>29524</td>\n",
       "    </tr>\n",
       "    <tr>\n",
       "      <th>361</th>\n",
       "      <td>30614</td>\n",
       "      <td>30399</td>\n",
       "      <td>30660</td>\n",
       "      <td>30376</td>\n",
       "    </tr>\n",
       "    <tr>\n",
       "      <th>209</th>\n",
       "      <td>30306</td>\n",
       "      <td>30518</td>\n",
       "      <td>30597</td>\n",
       "      <td>30270</td>\n",
       "    </tr>\n",
       "  </tbody>\n",
       "</table>\n",
       "</div>"
      ],
      "text/plain": [
       "     Price   Open   High    Low\n",
       "382  31631  31650  31780  31590\n",
       "181  29761  29876  29884  29705\n",
       "119  29541  29600  29622  29524\n",
       "361  30614  30399  30660  30376\n",
       "209  30306  30518  30597  30270"
      ]
     },
     "execution_count": 10,
     "metadata": {},
     "output_type": "execute_result"
    }
   ],
   "source": [
    "X_train.head()"
   ]
  },
  {
   "cell_type": "code",
   "execution_count": 11,
   "metadata": {},
   "outputs": [],
   "source": [
    "#Linear regression is a part of Linear model\n",
    "from sklearn import linear_model\n"
   ]
  },
  {
   "cell_type": "code",
   "execution_count": 12,
   "metadata": {},
   "outputs": [],
   "source": [
    "lm=linear_model.LinearRegression()\n",
    "\n"
   ]
  },
  {
   "cell_type": "code",
   "execution_count": 13,
   "metadata": {},
   "outputs": [
    {
     "data": {
      "text/plain": [
       "LinearRegression(copy_X=True, fit_intercept=True, n_jobs=None, normalize=False)"
      ]
     },
     "execution_count": 13,
     "metadata": {},
     "output_type": "execute_result"
    }
   ],
   "source": [
    "lm.fit(X_train,y_train)"
   ]
  },
  {
   "cell_type": "code",
   "execution_count": 14,
   "metadata": {},
   "outputs": [
    {
     "data": {
      "text/plain": [
       "array([ 2.,  3., -1., -4.])"
      ]
     },
     "execution_count": 14,
     "metadata": {},
     "output_type": "execute_result"
    }
   ],
   "source": [
    "lm.coef_\n"
   ]
  },
  {
   "cell_type": "code",
   "execution_count": 15,
   "metadata": {
    "scrolled": true
   },
   "outputs": [
    {
     "data": {
      "text/html": [
       "<div>\n",
       "<style scoped>\n",
       "    .dataframe tbody tr th:only-of-type {\n",
       "        vertical-align: middle;\n",
       "    }\n",
       "\n",
       "    .dataframe tbody tr th {\n",
       "        vertical-align: top;\n",
       "    }\n",
       "\n",
       "    .dataframe thead th {\n",
       "        text-align: right;\n",
       "    }\n",
       "</style>\n",
       "<table border=\"1\" class=\"dataframe\">\n",
       "  <thead>\n",
       "    <tr style=\"text-align: right;\">\n",
       "      <th></th>\n",
       "      <th>Coefficient</th>\n",
       "    </tr>\n",
       "  </thead>\n",
       "  <tbody>\n",
       "    <tr>\n",
       "      <th>Price</th>\n",
       "      <td>2.0</td>\n",
       "    </tr>\n",
       "    <tr>\n",
       "      <th>Open</th>\n",
       "      <td>3.0</td>\n",
       "    </tr>\n",
       "    <tr>\n",
       "      <th>High</th>\n",
       "      <td>-1.0</td>\n",
       "    </tr>\n",
       "    <tr>\n",
       "      <th>Low</th>\n",
       "      <td>-4.0</td>\n",
       "    </tr>\n",
       "  </tbody>\n",
       "</table>\n",
       "</div>"
      ],
      "text/plain": [
       "       Coefficient\n",
       "Price          2.0\n",
       "Open           3.0\n",
       "High          -1.0\n",
       "Low           -4.0"
      ]
     },
     "execution_count": 15,
     "metadata": {},
     "output_type": "execute_result"
    }
   ],
   "source": [
    "\n",
    "coeffs= pd.DataFrame(lm.coef_,X.columns,columns=['Coefficient'])\n",
    "coeffs\n"
   ]
  },
  {
   "cell_type": "code",
   "execution_count": 16,
   "metadata": {},
   "outputs": [],
   "source": [
    "predictions=lm.predict(X_test)"
   ]
  },
  {
   "cell_type": "code",
   "execution_count": 17,
   "metadata": {},
   "outputs": [
    {
     "name": "stdout",
     "output_type": "stream",
     "text": [
      "                                 OLS Regression Results                                \n",
      "=======================================================================================\n",
      "Dep. Variable:                   Pred   R-squared (uncentered):                   1.000\n",
      "Model:                            OLS   Adj. R-squared (uncentered):              1.000\n",
      "Method:                 Least Squares   F-statistic:                          1.493e+29\n",
      "Date:                Sat, 28 Nov 2020   Prob (F-statistic):                        0.00\n",
      "Time:                        17:24:54   Log-Likelihood:                          3218.2\n",
      "No. Observations:                 136   AIC:                                     -6434.\n",
      "Df Residuals:                     135   BIC:                                     -6432.\n",
      "Df Model:                           1                                                  \n",
      "Covariance Type:            nonrobust                                                  \n",
      "==============================================================================\n",
      "                 coef    std err          t      P>|t|      [0.025      0.975]\n",
      "------------------------------------------------------------------------------\n",
      "x1             1.0000   2.59e-15   3.86e+14      0.000       1.000       1.000\n",
      "==============================================================================\n",
      "Omnibus:                       30.440   Durbin-Watson:                   1.334\n",
      "Prob(Omnibus):                  0.000   Jarque-Bera (JB):               54.378\n",
      "Skew:                           1.022   Prob(JB):                     1.56e-12\n",
      "Kurtosis:                       5.327   Cond. No.                         1.00\n",
      "==============================================================================\n",
      "\n",
      "Warnings:\n",
      "[1] Standard Errors assume that the covariance matrix of the errors is correctly specified.\n"
     ]
    }
   ],
   "source": [
    "import statsmodels.api as sm\n",
    "#make regression model (Homework)\n",
    "model=sm.OLS(y_test,predictions)\n",
    "#fit model and print results.\n",
    "results1=model.fit()\n",
    "print(results1.summary())\n"
   ]
  },
  {
   "cell_type": "code",
   "execution_count": 18,
   "metadata": {},
   "outputs": [
    {
     "data": {
      "text/plain": [
       "<matplotlib.collections.PathCollection at 0xbef4a6ac18>"
      ]
     },
     "execution_count": 18,
     "metadata": {},
     "output_type": "execute_result"
    },
    {
     "data": {
      "image/png": "[encoded data removed]",
      "text/plain": [
       "<Figure size 432x288 with 1 Axes>"
      ]
     },
     "metadata": {
      "needs_background": "light"
     },
     "output_type": "display_data"
    }
   ],
   "source": [
    "\n",
    "plt.scatter(y_test,predictions, c=['b'])"
   ]
  },
  {
   "cell_type": "code",
   "execution_count": 19,
   "metadata": {},
   "outputs": [],
   "source": [
    "data['Pred']=lm.predict(data[['Price','Open','High','Low']])"
   ]
  },
  {
   "cell_type": "code",
   "execution_count": 20,
   "metadata": {},
   "outputs": [
    {
     "data": {
      "text/plain": [
       "(512, 9)"
      ]
     },
     "execution_count": 20,
     "metadata": {},
     "output_type": "execute_result"
    }
   ],
   "source": [
    "data.shape\n"
   ]
  },
  {
   "cell_type": "code",
   "execution_count": 21,
   "metadata": {},
   "outputs": [
    {
     "data": {
      "text/plain": [
       "Date        0\n",
       "Price       0\n",
       "Open        0\n",
       "High        0\n",
       "Low         0\n",
       "Vol.        0\n",
       "Change %    0\n",
       "Pred        0\n",
       "new         0\n",
       "dtype: int64"
      ]
     },
     "execution_count": 21,
     "metadata": {},
     "output_type": "execute_result"
    }
   ],
   "source": [
    "data.isnull().sum()"
   ]
  },
  {
   "cell_type": "code",
   "execution_count": 22,
   "metadata": {},
   "outputs": [
    {
     "data": {
      "text/plain": [
       "<matplotlib.axes._subplots.AxesSubplot at 0xbef23afd30>"
      ]
     },
     "execution_count": 22,
     "metadata": {},
     "output_type": "execute_result"
    },
    {
     "data": {
      "image/png": "[encoded data removed]",
      "text/plain": [
       "<Figure size 432x288 with 1 Axes>"
      ]
     },
     "metadata": {
      "needs_background": "light"
     },
     "output_type": "display_data"
    }
   ],
   "source": [
    "#Residual Histogram tells the frequency of error values\n",
    "sns.distplot(y_test-predictions,bins=10)"
   ]
  },
  {
   "cell_type": "code",
   "execution_count": 23,
   "metadata": {},
   "outputs": [
    {
     "name": "stdout",
     "output_type": "stream",
     "text": [
      "                            OLS Regression Results                            \n",
      "==============================================================================\n",
      "Dep. Variable:                   Pred   R-squared:                       1.000\n",
      "Model:                            OLS   Adj. R-squared:                  1.000\n",
      "Method:                 Least Squares   F-statistic:                 6.094e+26\n",
      "Date:                Sat, 28 Nov 2020   Prob (F-statistic):               0.00\n",
      "Time:                        17:25:55   Log-Likelihood:                 8839.4\n",
      "No. Observations:                 411   AIC:                        -1.767e+04\n",
      "Df Residuals:                     406   BIC:                        -1.765e+04\n",
      "Df Model:                           4                                         \n",
      "Covariance Type:            nonrobust                                         \n",
      "==============================================================================\n",
      "                 coef    std err          t      P>|t|      [0.025      0.975]\n",
      "------------------------------------------------------------------------------\n",
      "const       1.631e-11   1.65e-10      0.099      0.921   -3.08e-10    3.41e-10\n",
      "Price          2.0000   8.97e-14   2.23e+13      0.000       2.000       2.000\n",
      "Open           3.0000   7.63e-14   3.93e+13      0.000       3.000       3.000\n",
      "High          -1.0000   8.95e-14  -1.12e+13      0.000      -1.000      -1.000\n",
      "Low           -4.0000    9.1e-14  -4.39e+13      0.000      -4.000      -4.000\n",
      "==============================================================================\n",
      "Omnibus:                        4.246   Durbin-Watson:                   0.006\n",
      "Prob(Omnibus):                  0.120   Jarque-Bera (JB):                4.223\n",
      "Skew:                          -0.216   Prob(JB):                        0.121\n",
      "Kurtosis:                       2.754   Cond. No.                     1.80e+06\n",
      "==============================================================================\n",
      "\n",
      "Warnings:\n",
      "[1] Standard Errors assume that the covariance matrix of the errors is correctly specified.\n",
      "[2] The condition number is large, 1.8e+06. This might indicate that there are\n",
      "strong multicollinearity or other numerical problems.\n"
     ]
    }
   ],
   "source": [
    "#same thing OLS ORDINARY LEAST SQUARE\n",
    "import statsmodels.api as sm\n",
    "X=data_lr[['Price', 'Open','High','Low']] #importing dependent and independent variables.\n",
    "y1=data_lr['Pred']\n",
    "\n",
    "#Add a constant to the independent value\n",
    "X1=sm.add_constant(X)\n",
    "\n",
    "#make regression model\n",
    "model=sm.OLS(y1,X1)\n",
    "#fit model and print results.\n",
    "results1=model.fit()\n",
    "print(results1.summary())\n"
   ]
  },
  {
   "cell_type": "code",
   "execution_count": 24,
   "metadata": {},
   "outputs": [
    {
     "name": "stdout",
     "output_type": "stream",
     "text": [
      "                            OLS Regression Results                            \n",
      "==============================================================================\n",
      "Dep. Variable:                    new   R-squared:                       1.000\n",
      "Model:                            OLS   Adj. R-squared:                  1.000\n",
      "Method:                 Least Squares   F-statistic:                 1.726e+07\n",
      "Date:                Sat, 28 Nov 2020   Prob (F-statistic):               0.00\n",
      "Time:                        17:25:55   Log-Likelihood:                -287.72\n",
      "No. Observations:                 411   AIC:                             585.4\n",
      "Df Residuals:                     406   BIC:                             605.5\n",
      "Df Model:                           4                                         \n",
      "Covariance Type:            nonrobust                                         \n",
      "==============================================================================\n",
      "                 coef    std err          t      P>|t|      [0.025      0.975]\n",
      "------------------------------------------------------------------------------\n",
      "const         -0.2162      0.728     -0.297      0.767      -1.647       1.215\n",
      "Price          1.0120      0.000   2557.335      0.000       1.011       1.013\n",
      "Open          -1.0009      0.000  -2974.224      0.000      -1.002      -1.000\n",
      "High           1.0049      0.000   2547.252      0.000       1.004       1.006\n",
      "Low           -1.0160      0.000  -2530.728      0.000      -1.017      -1.015\n",
      "==============================================================================\n",
      "Omnibus:                      206.030   Durbin-Watson:                   1.756\n",
      "Prob(Omnibus):                  0.000   Jarque-Bera (JB):             1974.043\n",
      "Skew:                           1.913   Prob(JB):                         0.00\n",
      "Kurtosis:                      13.032   Cond. No.                     1.80e+06\n",
      "==============================================================================\n",
      "\n",
      "Warnings:\n",
      "[1] Standard Errors assume that the covariance matrix of the errors is correctly specified.\n",
      "[2] The condition number is large, 1.8e+06. This might indicate that there are\n",
      "strong multicollinearity or other numerical problems.\n"
     ]
    }
   ],
   "source": [
    "import statsmodels.api as sm\n",
    "X=data_lr[['Price', 'Open','High','Low']] #importing dependent and independent variables.\n",
    "y1=data_lr['new']\n",
    "\n",
    "#Add a constant to the independent value\n",
    "X1=sm.add_constant(X)\n",
    "\n",
    "#make regression model\n",
    "model=sm.OLS(y1,X1)\n",
    "#fit model and print results.\n",
    "results1=model.fit()\n",
    "print(results1.summary())\n"
   ]
  },
  {
   "cell_type": "markdown",
   "metadata": {},
   "source": [
    "<b>Problem Statement</b><br><br>\n",
    "Import the stock of your choosing AND the Nifty index.\n",
    "Using linear regression (OLS), calculate -\n",
    "-> The daily Beta value for the past 3 months. (Daily= Daily returns)\\\n",
    "-> The monthly Beta value. (Monthly= Monthly returns)\n",
    "Refrain from using the (covariance(x,y)/variance(x)) formula.\n",
    "Attempt the question using regression.(\n",
    "Regression Reference (https://financetrain.com/calculating-beta-using-marketmodel-\n",
    "regression-slope/))\n",
    "Were the Beta values more or less than 1 ? What if it was negative ?\n",
    "Discuss. Include a brief writeup in the bottom of your jupyter notebook with your inferences from the Beta values andregression results"
   ]
  },
  {
   "cell_type": "code",
   "execution_count": 36,
   "metadata": {},
   "outputs": [
    {
     "name": "stdout",
     "output_type": "stream",
     "text": [
      "                hdfc    nifty\n",
      "Date                         \n",
      "15-May-2017  1553.40  9445.40\n",
      "16-May-2017  1559.65  9512.25\n",
      "17-May-2017  1557.15  9525.75\n",
      "18-May-2017  1557.10  9429.45\n",
      "19-May-2017  1561.25  9427.90\n"
     ]
    },
    {
     "data": {
      "text/html": [
       "<div>\n",
       "<style scoped>\n",
       "    .dataframe tbody tr th:only-of-type {\n",
       "        vertical-align: middle;\n",
       "    }\n",
       "\n",
       "    .dataframe tbody tr th {\n",
       "        vertical-align: top;\n",
       "    }\n",
       "\n",
       "    .dataframe thead th {\n",
       "        text-align: right;\n",
       "    }\n",
       "</style>\n",
       "<table border=\"1\" class=\"dataframe\">\n",
       "  <thead>\n",
       "    <tr style=\"text-align: right;\">\n",
       "      <th></th>\n",
       "      <th>hdfc</th>\n",
       "      <th>nifty</th>\n",
       "    </tr>\n",
       "    <tr>\n",
       "      <th>Date</th>\n",
       "      <th></th>\n",
       "      <th></th>\n",
       "    </tr>\n",
       "  </thead>\n",
       "  <tbody>\n",
       "    <tr>\n",
       "      <th>16-May-2017</th>\n",
       "      <td>0.004023</td>\n",
       "      <td>0.007078</td>\n",
       "    </tr>\n",
       "    <tr>\n",
       "      <th>17-May-2017</th>\n",
       "      <td>-0.001603</td>\n",
       "      <td>0.001419</td>\n",
       "    </tr>\n",
       "    <tr>\n",
       "      <th>18-May-2017</th>\n",
       "      <td>-0.000032</td>\n",
       "      <td>-0.010109</td>\n",
       "    </tr>\n",
       "    <tr>\n",
       "      <th>19-May-2017</th>\n",
       "      <td>0.002665</td>\n",
       "      <td>-0.000164</td>\n",
       "    </tr>\n",
       "    <tr>\n",
       "      <th>22-May-2017</th>\n",
       "      <td>0.009448</td>\n",
       "      <td>0.001098</td>\n",
       "    </tr>\n",
       "  </tbody>\n",
       "</table>\n",
       "</div>"
      ],
      "text/plain": [
       "                 hdfc     nifty\n",
       "Date                           \n",
       "16-May-2017  0.004023  0.007078\n",
       "17-May-2017 -0.001603  0.001419\n",
       "18-May-2017 -0.000032 -0.010109\n",
       "19-May-2017  0.002665 -0.000164\n",
       "22-May-2017  0.009448  0.001098"
      ]
     },
     "execution_count": 36,
     "metadata": {},
     "output_type": "execute_result"
    }
   ],
   "source": [
    "import pandas as pd\n",
    "import statsmodels.api as sm\n",
    "hdfc=pd.read_csv('data/HDFCBANK.csv')\n",
    "hdfc=hdfc[hdfc.Series=='EQ']\n",
    "hdfc.index=hdfc.Date\n",
    "nifty=pd.read_csv('data/Nifty50.csv')\n",
    "nifty.index=nifty.Date\n",
    "#joining the closing prices of the dataset\n",
    "prices=pd.concat([hdfc['Close Price'],nifty['Close']],axis=1)\n",
    "prices.columns=['hdfc','nifty']\n",
    "\n",
    "#checking the head of the dataframe\n",
    "print(prices.head())\n",
    "\n",
    "returns=prices.pct_change()\n",
    "returns=returns.dropna(axis=0) #drop first missing row\n",
    "returns.head()"
   ]
  },
  {
   "cell_type": "code",
   "execution_count": 37,
   "metadata": {},
   "outputs": [
    {
     "data": {
      "text/html": [
       "<div>\n",
       "<style scoped>\n",
       "    .dataframe tbody tr th:only-of-type {\n",
       "        vertical-align: middle;\n",
       "    }\n",
       "\n",
       "    .dataframe tbody tr th {\n",
       "        vertical-align: top;\n",
       "    }\n",
       "\n",
       "    .dataframe thead th {\n",
       "        text-align: right;\n",
       "    }\n",
       "</style>\n",
       "<table border=\"1\" class=\"dataframe\">\n",
       "  <thead>\n",
       "    <tr style=\"text-align: right;\">\n",
       "      <th></th>\n",
       "      <th>hdfc</th>\n",
       "      <th>nifty</th>\n",
       "    </tr>\n",
       "    <tr>\n",
       "      <th>Date</th>\n",
       "      <th></th>\n",
       "      <th></th>\n",
       "    </tr>\n",
       "  </thead>\n",
       "  <tbody>\n",
       "    <tr>\n",
       "      <th>11-Feb-2019</th>\n",
       "      <td>0.008009</td>\n",
       "      <td>-0.005007</td>\n",
       "    </tr>\n",
       "    <tr>\n",
       "      <th>12-Feb-2019</th>\n",
       "      <td>-0.004650</td>\n",
       "      <td>-0.005271</td>\n",
       "    </tr>\n",
       "    <tr>\n",
       "      <th>13-Feb-2019</th>\n",
       "      <td>0.006456</td>\n",
       "      <td>-0.003485</td>\n",
       "    </tr>\n",
       "    <tr>\n",
       "      <th>14-Feb-2019</th>\n",
       "      <td>-0.015512</td>\n",
       "      <td>-0.004410</td>\n",
       "    </tr>\n",
       "    <tr>\n",
       "      <th>15-Feb-2019</th>\n",
       "      <td>-0.004526</td>\n",
       "      <td>-0.002015</td>\n",
       "    </tr>\n",
       "    <tr>\n",
       "      <th>18-Feb-2019</th>\n",
       "      <td>-0.005117</td>\n",
       "      <td>-0.007781</td>\n",
       "    </tr>\n",
       "    <tr>\n",
       "      <th>19-Feb-2019</th>\n",
       "      <td>-0.002799</td>\n",
       "      <td>-0.003440</td>\n",
       "    </tr>\n",
       "    <tr>\n",
       "      <th>20-Feb-2019</th>\n",
       "      <td>0.011660</td>\n",
       "      <td>0.012363</td>\n",
       "    </tr>\n",
       "    <tr>\n",
       "      <th>21-Feb-2019</th>\n",
       "      <td>0.003581</td>\n",
       "      <td>0.005067</td>\n",
       "    </tr>\n",
       "    <tr>\n",
       "      <th>22-Feb-2019</th>\n",
       "      <td>-0.011555</td>\n",
       "      <td>0.000167</td>\n",
       "    </tr>\n",
       "    <tr>\n",
       "      <th>25-Feb-2019</th>\n",
       "      <td>0.016233</td>\n",
       "      <td>0.008196</td>\n",
       "    </tr>\n",
       "    <tr>\n",
       "      <th>26-Feb-2019</th>\n",
       "      <td>-0.006940</td>\n",
       "      <td>-0.004118</td>\n",
       "    </tr>\n",
       "    <tr>\n",
       "      <th>27-Feb-2019</th>\n",
       "      <td>-0.008718</td>\n",
       "      <td>-0.002644</td>\n",
       "    </tr>\n",
       "    <tr>\n",
       "      <th>28-Feb-2019</th>\n",
       "      <td>-0.007026</td>\n",
       "      <td>-0.001309</td>\n",
       "    </tr>\n",
       "    <tr>\n",
       "      <th>01-Mar-2019</th>\n",
       "      <td>0.002792</td>\n",
       "      <td>0.006579</td>\n",
       "    </tr>\n",
       "    <tr>\n",
       "      <th>05-Mar-2019</th>\n",
       "      <td>0.011400</td>\n",
       "      <td>0.011410</td>\n",
       "    </tr>\n",
       "    <tr>\n",
       "      <th>06-Mar-2019</th>\n",
       "      <td>-0.001353</td>\n",
       "      <td>0.005966</td>\n",
       "    </tr>\n",
       "    <tr>\n",
       "      <th>07-Mar-2019</th>\n",
       "      <td>0.010574</td>\n",
       "      <td>0.000470</td>\n",
       "    </tr>\n",
       "    <tr>\n",
       "      <th>08-Mar-2019</th>\n",
       "      <td>0.000799</td>\n",
       "      <td>-0.002062</td>\n",
       "    </tr>\n",
       "    <tr>\n",
       "      <th>11-Mar-2019</th>\n",
       "      <td>0.000117</td>\n",
       "      <td>0.012020</td>\n",
       "    </tr>\n",
       "    <tr>\n",
       "      <th>12-Mar-2019</th>\n",
       "      <td>0.019991</td>\n",
       "      <td>0.011922</td>\n",
       "    </tr>\n",
       "    <tr>\n",
       "      <th>13-Mar-2019</th>\n",
       "      <td>0.025587</td>\n",
       "      <td>0.003584</td>\n",
       "    </tr>\n",
       "    <tr>\n",
       "      <th>14-Mar-2019</th>\n",
       "      <td>-0.000808</td>\n",
       "      <td>0.000137</td>\n",
       "    </tr>\n",
       "    <tr>\n",
       "      <th>15-Mar-2019</th>\n",
       "      <td>0.012698</td>\n",
       "      <td>0.007370</td>\n",
       "    </tr>\n",
       "    <tr>\n",
       "      <th>18-Mar-2019</th>\n",
       "      <td>0.003751</td>\n",
       "      <td>0.003094</td>\n",
       "    </tr>\n",
       "    <tr>\n",
       "      <th>19-Mar-2019</th>\n",
       "      <td>0.002786</td>\n",
       "      <td>0.006124</td>\n",
       "    </tr>\n",
       "    <tr>\n",
       "      <th>20-Mar-2019</th>\n",
       "      <td>0.013780</td>\n",
       "      <td>-0.000984</td>\n",
       "    </tr>\n",
       "    <tr>\n",
       "      <th>22-Mar-2019</th>\n",
       "      <td>-0.009939</td>\n",
       "      <td>-0.005568</td>\n",
       "    </tr>\n",
       "    <tr>\n",
       "      <th>25-Mar-2019</th>\n",
       "      <td>0.002263</td>\n",
       "      <td>-0.008960</td>\n",
       "    </tr>\n",
       "    <tr>\n",
       "      <th>26-Mar-2019</th>\n",
       "      <td>0.013172</td>\n",
       "      <td>0.011361</td>\n",
       "    </tr>\n",
       "    <tr>\n",
       "      <th>27-Mar-2019</th>\n",
       "      <td>-0.005149</td>\n",
       "      <td>-0.003327</td>\n",
       "    </tr>\n",
       "    <tr>\n",
       "      <th>28-Mar-2019</th>\n",
       "      <td>0.001457</td>\n",
       "      <td>0.010917</td>\n",
       "    </tr>\n",
       "    <tr>\n",
       "      <th>29-Mar-2019</th>\n",
       "      <td>0.006991</td>\n",
       "      <td>0.004659</td>\n",
       "    </tr>\n",
       "    <tr>\n",
       "      <th>01-Apr-2019</th>\n",
       "      <td>-0.003062</td>\n",
       "      <td>0.003893</td>\n",
       "    </tr>\n",
       "    <tr>\n",
       "      <th>02-Apr-2019</th>\n",
       "      <td>-0.007332</td>\n",
       "      <td>0.003775</td>\n",
       "    </tr>\n",
       "    <tr>\n",
       "      <th>03-Apr-2019</th>\n",
       "      <td>-0.000915</td>\n",
       "      <td>-0.005912</td>\n",
       "    </tr>\n",
       "    <tr>\n",
       "      <th>04-Apr-2019</th>\n",
       "      <td>-0.003838</td>\n",
       "      <td>-0.003946</td>\n",
       "    </tr>\n",
       "    <tr>\n",
       "      <th>05-Apr-2019</th>\n",
       "      <td>0.009479</td>\n",
       "      <td>0.005859</td>\n",
       "    </tr>\n",
       "    <tr>\n",
       "      <th>08-Apr-2019</th>\n",
       "      <td>-0.007026</td>\n",
       "      <td>-0.005267</td>\n",
       "    </tr>\n",
       "    <tr>\n",
       "      <th>09-Apr-2019</th>\n",
       "      <td>-0.000939</td>\n",
       "      <td>0.005812</td>\n",
       "    </tr>\n",
       "    <tr>\n",
       "      <th>10-Apr-2019</th>\n",
       "      <td>-0.021817</td>\n",
       "      <td>-0.007509</td>\n",
       "    </tr>\n",
       "    <tr>\n",
       "      <th>11-Apr-2019</th>\n",
       "      <td>0.009006</td>\n",
       "      <td>0.001070</td>\n",
       "    </tr>\n",
       "    <tr>\n",
       "      <th>12-Apr-2019</th>\n",
       "      <td>0.003433</td>\n",
       "      <td>0.004031</td>\n",
       "    </tr>\n",
       "    <tr>\n",
       "      <th>15-Apr-2019</th>\n",
       "      <td>0.010396</td>\n",
       "      <td>0.004028</td>\n",
       "    </tr>\n",
       "    <tr>\n",
       "      <th>16-Apr-2019</th>\n",
       "      <td>0.007100</td>\n",
       "      <td>0.008280</td>\n",
       "    </tr>\n",
       "    <tr>\n",
       "      <th>18-Apr-2019</th>\n",
       "      <td>-0.004946</td>\n",
       "      <td>-0.002914</td>\n",
       "    </tr>\n",
       "    <tr>\n",
       "      <th>22-Apr-2019</th>\n",
       "      <td>-0.010878</td>\n",
       "      <td>-0.013473</td>\n",
       "    </tr>\n",
       "    <tr>\n",
       "      <th>23-Apr-2019</th>\n",
       "      <td>-0.010314</td>\n",
       "      <td>-0.001596</td>\n",
       "    </tr>\n",
       "    <tr>\n",
       "      <th>24-Apr-2019</th>\n",
       "      <td>0.015343</td>\n",
       "      <td>0.012975</td>\n",
       "    </tr>\n",
       "    <tr>\n",
       "      <th>25-Apr-2019</th>\n",
       "      <td>-0.007150</td>\n",
       "      <td>-0.007193</td>\n",
       "    </tr>\n",
       "    <tr>\n",
       "      <th>26-Apr-2019</th>\n",
       "      <td>0.007732</td>\n",
       "      <td>0.009694</td>\n",
       "    </tr>\n",
       "    <tr>\n",
       "      <th>30-Apr-2019</th>\n",
       "      <td>0.016002</td>\n",
       "      <td>-0.000553</td>\n",
       "    </tr>\n",
       "    <tr>\n",
       "      <th>02-May-2019</th>\n",
       "      <td>0.016548</td>\n",
       "      <td>-0.001992</td>\n",
       "    </tr>\n",
       "    <tr>\n",
       "      <th>03-May-2019</th>\n",
       "      <td>0.005157</td>\n",
       "      <td>-0.001066</td>\n",
       "    </tr>\n",
       "    <tr>\n",
       "      <th>06-May-2019</th>\n",
       "      <td>-0.016681</td>\n",
       "      <td>-0.009733</td>\n",
       "    </tr>\n",
       "    <tr>\n",
       "      <th>07-May-2019</th>\n",
       "      <td>-0.002620</td>\n",
       "      <td>-0.008652</td>\n",
       "    </tr>\n",
       "    <tr>\n",
       "      <th>08-May-2019</th>\n",
       "      <td>-0.006502</td>\n",
       "      <td>-0.012041</td>\n",
       "    </tr>\n",
       "    <tr>\n",
       "      <th>09-May-2019</th>\n",
       "      <td>-0.007086</td>\n",
       "      <td>-0.005075</td>\n",
       "    </tr>\n",
       "    <tr>\n",
       "      <th>10-May-2019</th>\n",
       "      <td>0.002444</td>\n",
       "      <td>-0.002026</td>\n",
       "    </tr>\n",
       "    <tr>\n",
       "      <th>13-May-2019</th>\n",
       "      <td>-0.004050</td>\n",
       "      <td>-0.011588</td>\n",
       "    </tr>\n",
       "  </tbody>\n",
       "</table>\n",
       "</div>"
      ],
      "text/plain": [
       "                 hdfc     nifty\n",
       "Date                           \n",
       "11-Feb-2019  0.008009 -0.005007\n",
       "12-Feb-2019 -0.004650 -0.005271\n",
       "13-Feb-2019  0.006456 -0.003485\n",
       "14-Feb-2019 -0.015512 -0.004410\n",
       "15-Feb-2019 -0.004526 -0.002015\n",
       "18-Feb-2019 -0.005117 -0.007781\n",
       "19-Feb-2019 -0.002799 -0.003440\n",
       "20-Feb-2019  0.011660  0.012363\n",
       "21-Feb-2019  0.003581  0.005067\n",
       "22-Feb-2019 -0.011555  0.000167\n",
       "25-Feb-2019  0.016233  0.008196\n",
       "26-Feb-2019 -0.006940 -0.004118\n",
       "27-Feb-2019 -0.008718 -0.002644\n",
       "28-Feb-2019 -0.007026 -0.001309\n",
       "01-Mar-2019  0.002792  0.006579\n",
       "05-Mar-2019  0.011400  0.011410\n",
       "06-Mar-2019 -0.001353  0.005966\n",
       "07-Mar-2019  0.010574  0.000470\n",
       "08-Mar-2019  0.000799 -0.002062\n",
       "11-Mar-2019  0.000117  0.012020\n",
       "12-Mar-2019  0.019991  0.011922\n",
       "13-Mar-2019  0.025587  0.003584\n",
       "14-Mar-2019 -0.000808  0.000137\n",
       "15-Mar-2019  0.012698  0.007370\n",
       "18-Mar-2019  0.003751  0.003094\n",
       "19-Mar-2019  0.002786  0.006124\n",
       "20-Mar-2019  0.013780 -0.000984\n",
       "22-Mar-2019 -0.009939 -0.005568\n",
       "25-Mar-2019  0.002263 -0.008960\n",
       "26-Mar-2019  0.013172  0.011361\n",
       "27-Mar-2019 -0.005149 -0.003327\n",
       "28-Mar-2019  0.001457  0.010917\n",
       "29-Mar-2019  0.006991  0.004659\n",
       "01-Apr-2019 -0.003062  0.003893\n",
       "02-Apr-2019 -0.007332  0.003775\n",
       "03-Apr-2019 -0.000915 -0.005912\n",
       "04-Apr-2019 -0.003838 -0.003946\n",
       "05-Apr-2019  0.009479  0.005859\n",
       "08-Apr-2019 -0.007026 -0.005267\n",
       "09-Apr-2019 -0.000939  0.005812\n",
       "10-Apr-2019 -0.021817 -0.007509\n",
       "11-Apr-2019  0.009006  0.001070\n",
       "12-Apr-2019  0.003433  0.004031\n",
       "15-Apr-2019  0.010396  0.004028\n",
       "16-Apr-2019  0.007100  0.008280\n",
       "18-Apr-2019 -0.004946 -0.002914\n",
       "22-Apr-2019 -0.010878 -0.013473\n",
       "23-Apr-2019 -0.010314 -0.001596\n",
       "24-Apr-2019  0.015343  0.012975\n",
       "25-Apr-2019 -0.007150 -0.007193\n",
       "26-Apr-2019  0.007732  0.009694\n",
       "30-Apr-2019  0.016002 -0.000553\n",
       "02-May-2019  0.016548 -0.001992\n",
       "03-May-2019  0.005157 -0.001066\n",
       "06-May-2019 -0.016681 -0.009733\n",
       "07-May-2019 -0.002620 -0.008652\n",
       "08-May-2019 -0.006502 -0.012041\n",
       "09-May-2019 -0.007086 -0.005075\n",
       "10-May-2019  0.002444 -0.002026\n",
       "13-May-2019 -0.004050 -0.011588"
      ]
     },
     "execution_count": 37,
     "metadata": {},
     "output_type": "execute_result"
    }
   ],
   "source": [
    "#in a single month in financial market the number of days is 20. So in 3 months it is 60\n",
    "returns=returns.iloc[-60:,:]\n",
    "returns"
   ]
  },
  {
   "cell_type": "code",
   "execution_count": 38,
   "metadata": {},
   "outputs": [
    {
     "name": "stdout",
     "output_type": "stream",
     "text": [
      "                            OLS Regression Results                            \n",
      "==============================================================================\n",
      "Dep. Variable:                   hdfc   R-squared:                       0.376\n",
      "Model:                            OLS   Adj. R-squared:                  0.365\n",
      "Method:                 Least Squares   F-statistic:                     34.93\n",
      "Date:                Sat, 28 Nov 2020   Prob (F-statistic):           1.91e-07\n",
      "Time:                        17:27:52   Log-Likelihood:                 207.52\n",
      "No. Observations:                  60   AIC:                            -411.0\n",
      "Df Residuals:                      58   BIC:                            -406.9\n",
      "Df Model:                           1                                         \n",
      "Covariance Type:            nonrobust                                         \n",
      "==============================================================================\n",
      "                 coef    std err          t      P>|t|      [0.025      0.975]\n",
      "------------------------------------------------------------------------------\n",
      "const          0.0010      0.001      1.001      0.321      -0.001       0.003\n",
      "nifty          0.8716      0.147      5.911      0.000       0.576       1.167\n",
      "==============================================================================\n",
      "Omnibus:                        2.373   Durbin-Watson:                   1.985\n",
      "Prob(Omnibus):                  0.305   Jarque-Bera (JB):                1.730\n",
      "Skew:                           0.405   Prob(JB):                        0.421\n",
      "Kurtosis:                       3.186   Cond. No.                         147.\n",
      "==============================================================================\n",
      "\n",
      "Warnings:\n",
      "[1] Standard Errors assume that the covariance matrix of the errors is correctly specified.\n"
     ]
    }
   ],
   "source": [
    "X=returns['nifty'] #independent variable\n",
    "y=returns['hdfc'] #dependent variable \n",
    "#adding a constant to independent variable\n",
    "X1=sm.add_constant(X)\n",
    "\n",
    "#make regression model\n",
    "model=sm.OLS(y,X1)\n",
    "\n",
    "#fit model and print results.\n",
    "results1=model.fit()\n",
    "print(results1.summary())\n",
    "\n",
    "#here in the table the coefficient is low which indicates a good result and has a linear regression\n",
    "#And the nifty value that is the beta value for hdfc is 0.8716\n",
    "#so in 3 months if we say that the nifty moved by 100 percent. hdfc will moveby 87 percent"
   ]
  },
  {
   "cell_type": "code",
   "execution_count": 39,
   "metadata": {},
   "outputs": [
    {
     "data": {
      "text/plain": [
       "Date\n",
       "15-May-2017    May-2017\n",
       "16-May-2017    May-2017\n",
       "17-May-2017    May-2017\n",
       "18-May-2017    May-2017\n",
       "19-May-2017    May-2017\n",
       "                 ...   \n",
       "07-May-2019    May-2019\n",
       "08-May-2019    May-2019\n",
       "09-May-2019    May-2019\n",
       "10-May-2019    May-2019\n",
       "13-May-2019    May-2019\n",
       "Name: month, Length: 494, dtype: object"
      ]
     },
     "execution_count": 39,
     "metadata": {},
     "output_type": "execute_result"
    }
   ],
   "source": [
    "prices['month']=prices.index.str.slice(3) #slicing the 3 months into 3 parts each indicating one path\n",
    "prices.month"
   ]
  },
  {
   "cell_type": "code",
   "execution_count": 40,
   "metadata": {},
   "outputs": [
    {
     "data": {
      "text/plain": [
       "array([[ 1636.2 ,  9621.25],\n",
       "       [ 1652.05,  9520.9 ],\n",
       "       [ 1784.4 , 10077.1 ],\n",
       "       [ 1776.45,  9917.9 ],\n",
       "       [ 1805.7 ,  9788.6 ],\n",
       "       [ 1808.5 , 10335.3 ],\n",
       "       [ 1853.7 , 10226.55],\n",
       "       [ 1872.4 , 10530.7 ],\n",
       "       [ 2005.7 , 11027.7 ],\n",
       "       [ 1884.2 , 10492.85],\n",
       "       [ 1886.1 , 10113.7 ],\n",
       "       [ 1944.3 , 10739.35],\n",
       "       [ 2139.45, 10736.15],\n",
       "       [ 2108.45, 10714.3 ],\n",
       "       [ 2179.5 , 11356.5 ],\n",
       "       [ 2061.2 , 11680.5 ],\n",
       "       [ 2006.05, 10930.45],\n",
       "       [ 1911.75, 10386.6 ],\n",
       "       [ 2128.45, 10876.75],\n",
       "       [ 2121.7 , 10862.55],\n",
       "       [ 2079.95, 10830.95],\n",
       "       [ 2077.55, 10792.5 ],\n",
       "       [ 2318.9 , 11623.9 ],\n",
       "       [ 2317.45, 11748.15],\n",
       "       [ 2287.2 , 11148.2 ]])"
      ]
     },
     "execution_count": 40,
     "metadata": {},
     "output_type": "execute_result"
    }
   ],
   "source": [
    "import numpy as np\n",
    "month=np.zeros((25,2), dtype=float)\n",
    "for i,j in enumerate(prices.month.unique()):\n",
    "    temp=prices[prices.month==j] #for each month taking the last value\n",
    "    month[i]=temp.iloc[-1,0:2]\n",
    "    \n",
    "month"
   ]
  },
  {
   "cell_type": "code",
   "execution_count": 41,
   "metadata": {},
   "outputs": [],
   "source": [
    "month=pd.DataFrame(month)"
   ]
  },
  {
   "cell_type": "code",
   "execution_count": 42,
   "metadata": {},
   "outputs": [
    {
     "data": {
      "text/html": [
       "<div>\n",
       "<style scoped>\n",
       "    .dataframe tbody tr th:only-of-type {\n",
       "        vertical-align: middle;\n",
       "    }\n",
       "\n",
       "    .dataframe tbody tr th {\n",
       "        vertical-align: top;\n",
       "    }\n",
       "\n",
       "    .dataframe thead th {\n",
       "        text-align: right;\n",
       "    }\n",
       "</style>\n",
       "<table border=\"1\" class=\"dataframe\">\n",
       "  <thead>\n",
       "    <tr style=\"text-align: right;\">\n",
       "      <th></th>\n",
       "      <th>hdfc</th>\n",
       "      <th>nifty</th>\n",
       "    </tr>\n",
       "  </thead>\n",
       "  <tbody>\n",
       "    <tr>\n",
       "      <th>May-2017</th>\n",
       "      <td>1636.20</td>\n",
       "      <td>9621.25</td>\n",
       "    </tr>\n",
       "    <tr>\n",
       "      <th>Jun-2017</th>\n",
       "      <td>1652.05</td>\n",
       "      <td>9520.90</td>\n",
       "    </tr>\n",
       "    <tr>\n",
       "      <th>Jul-2017</th>\n",
       "      <td>1784.40</td>\n",
       "      <td>10077.10</td>\n",
       "    </tr>\n",
       "    <tr>\n",
       "      <th>Aug-2017</th>\n",
       "      <td>1776.45</td>\n",
       "      <td>9917.90</td>\n",
       "    </tr>\n",
       "    <tr>\n",
       "      <th>Sep-2017</th>\n",
       "      <td>1805.70</td>\n",
       "      <td>9788.60</td>\n",
       "    </tr>\n",
       "    <tr>\n",
       "      <th>Oct-2017</th>\n",
       "      <td>1808.50</td>\n",
       "      <td>10335.30</td>\n",
       "    </tr>\n",
       "    <tr>\n",
       "      <th>Nov-2017</th>\n",
       "      <td>1853.70</td>\n",
       "      <td>10226.55</td>\n",
       "    </tr>\n",
       "    <tr>\n",
       "      <th>Dec-2017</th>\n",
       "      <td>1872.40</td>\n",
       "      <td>10530.70</td>\n",
       "    </tr>\n",
       "    <tr>\n",
       "      <th>Jan-2018</th>\n",
       "      <td>2005.70</td>\n",
       "      <td>11027.70</td>\n",
       "    </tr>\n",
       "    <tr>\n",
       "      <th>Feb-2018</th>\n",
       "      <td>1884.20</td>\n",
       "      <td>10492.85</td>\n",
       "    </tr>\n",
       "    <tr>\n",
       "      <th>Mar-2018</th>\n",
       "      <td>1886.10</td>\n",
       "      <td>10113.70</td>\n",
       "    </tr>\n",
       "    <tr>\n",
       "      <th>Apr-2018</th>\n",
       "      <td>1944.30</td>\n",
       "      <td>10739.35</td>\n",
       "    </tr>\n",
       "    <tr>\n",
       "      <th>May-2018</th>\n",
       "      <td>2139.45</td>\n",
       "      <td>10736.15</td>\n",
       "    </tr>\n",
       "    <tr>\n",
       "      <th>Jun-2018</th>\n",
       "      <td>2108.45</td>\n",
       "      <td>10714.30</td>\n",
       "    </tr>\n",
       "    <tr>\n",
       "      <th>Jul-2018</th>\n",
       "      <td>2179.50</td>\n",
       "      <td>11356.50</td>\n",
       "    </tr>\n",
       "    <tr>\n",
       "      <th>Aug-2018</th>\n",
       "      <td>2061.20</td>\n",
       "      <td>11680.50</td>\n",
       "    </tr>\n",
       "    <tr>\n",
       "      <th>Sep-2018</th>\n",
       "      <td>2006.05</td>\n",
       "      <td>10930.45</td>\n",
       "    </tr>\n",
       "    <tr>\n",
       "      <th>Oct-2018</th>\n",
       "      <td>1911.75</td>\n",
       "      <td>10386.60</td>\n",
       "    </tr>\n",
       "    <tr>\n",
       "      <th>Nov-2018</th>\n",
       "      <td>2128.45</td>\n",
       "      <td>10876.75</td>\n",
       "    </tr>\n",
       "    <tr>\n",
       "      <th>Dec-2018</th>\n",
       "      <td>2121.70</td>\n",
       "      <td>10862.55</td>\n",
       "    </tr>\n",
       "    <tr>\n",
       "      <th>Jan-2019</th>\n",
       "      <td>2079.95</td>\n",
       "      <td>10830.95</td>\n",
       "    </tr>\n",
       "    <tr>\n",
       "      <th>Feb-2019</th>\n",
       "      <td>2077.55</td>\n",
       "      <td>10792.50</td>\n",
       "    </tr>\n",
       "    <tr>\n",
       "      <th>Mar-2019</th>\n",
       "      <td>2318.90</td>\n",
       "      <td>11623.90</td>\n",
       "    </tr>\n",
       "    <tr>\n",
       "      <th>Apr-2019</th>\n",
       "      <td>2317.45</td>\n",
       "      <td>11748.15</td>\n",
       "    </tr>\n",
       "    <tr>\n",
       "      <th>May-2019</th>\n",
       "      <td>2287.20</td>\n",
       "      <td>11148.20</td>\n",
       "    </tr>\n",
       "  </tbody>\n",
       "</table>\n",
       "</div>"
      ],
      "text/plain": [
       "             hdfc     nifty\n",
       "May-2017  1636.20   9621.25\n",
       "Jun-2017  1652.05   9520.90\n",
       "Jul-2017  1784.40  10077.10\n",
       "Aug-2017  1776.45   9917.90\n",
       "Sep-2017  1805.70   9788.60\n",
       "Oct-2017  1808.50  10335.30\n",
       "Nov-2017  1853.70  10226.55\n",
       "Dec-2017  1872.40  10530.70\n",
       "Jan-2018  2005.70  11027.70\n",
       "Feb-2018  1884.20  10492.85\n",
       "Mar-2018  1886.10  10113.70\n",
       "Apr-2018  1944.30  10739.35\n",
       "May-2018  2139.45  10736.15\n",
       "Jun-2018  2108.45  10714.30\n",
       "Jul-2018  2179.50  11356.50\n",
       "Aug-2018  2061.20  11680.50\n",
       "Sep-2018  2006.05  10930.45\n",
       "Oct-2018  1911.75  10386.60\n",
       "Nov-2018  2128.45  10876.75\n",
       "Dec-2018  2121.70  10862.55\n",
       "Jan-2019  2079.95  10830.95\n",
       "Feb-2019  2077.55  10792.50\n",
       "Mar-2019  2318.90  11623.90\n",
       "Apr-2019  2317.45  11748.15\n",
       "May-2019  2287.20  11148.20"
      ]
     },
     "execution_count": 42,
     "metadata": {},
     "output_type": "execute_result"
    }
   ],
   "source": [
    "month.columns=['hdfc','nifty']\n",
    "month.index=prices['month'].unique() #choosing the month as the index\n",
    "month"
   ]
  },
  {
   "cell_type": "code",
   "execution_count": 43,
   "metadata": {},
   "outputs": [
    {
     "name": "stdout",
     "output_type": "stream",
     "text": [
      "                            OLS Regression Results                            \n",
      "==============================================================================\n",
      "Dep. Variable:                   hdfc   R-squared:                       0.376\n",
      "Model:                            OLS   Adj. R-squared:                  0.365\n",
      "Method:                 Least Squares   F-statistic:                     34.93\n",
      "Date:                Sat, 28 Nov 2020   Prob (F-statistic):           1.91e-07\n",
      "Time:                        17:27:55   Log-Likelihood:                 207.52\n",
      "No. Observations:                  60   AIC:                            -411.0\n",
      "Df Residuals:                      58   BIC:                            -406.9\n",
      "Df Model:                           1                                         \n",
      "Covariance Type:            nonrobust                                         \n",
      "==============================================================================\n",
      "                 coef    std err          t      P>|t|      [0.025      0.975]\n",
      "------------------------------------------------------------------------------\n",
      "const          0.0010      0.001      1.001      0.321      -0.001       0.003\n",
      "nifty          0.8716      0.147      5.911      0.000       0.576       1.167\n",
      "==============================================================================\n",
      "Omnibus:                        2.373   Durbin-Watson:                   1.985\n",
      "Prob(Omnibus):                  0.305   Jarque-Bera (JB):                1.730\n",
      "Skew:                           0.405   Prob(JB):                        0.421\n",
      "Kurtosis:                       3.186   Cond. No.                         147.\n",
      "==============================================================================\n",
      "\n",
      "Warnings:\n",
      "[1] Standard Errors assume that the covariance matrix of the errors is correctly specified.\n"
     ]
    }
   ],
   "source": [
    "#running the same regression function to calculate the Beta value.\n",
    "\n",
    "X=returns['nifty'] #independent variable\n",
    "y=returns['hdfc'] #dependent variable \n",
    "\n",
    "#adding a constant to independent variable\n",
    "X1=sm.add_constant(X)\n",
    "\n",
    "#make regression model\n",
    "model=sm.OLS(y,X1)\n",
    "\n",
    "#fit model and print results.\n",
    "results1=model.fit()\n",
    "print(results1.summary())\n",
    "\n"
   ]
  },
  {
   "cell_type": "code",
   "execution_count": 44,
   "metadata": {},
   "outputs": [],
   "source": [
    "#here the coefficient of the constant is 0.0010 which is low that is good thing. As it says a linear regression model\n",
    "#And the coefficient of the nifty is 0.8716\n",
    "#So over the past two years the monthly beta value is 0.8716.\n",
    "#Hence if the nifty moves by 100 percent, hdfc is expected to move by 87 percent in the any direction is the nifty changes \n",
    "#that is the beta value\n",
    "#here the beta value is 0.8716 which is less than 1 that indicates less risks lower returns. If it is more than 1 than \n",
    "#the beta has higher risk and higher returns.\n",
    "#also note that by definition the market beta value is 1.0\n",
    "#Also a negative beta value indicates that the investment moves in the opposite side of the market.\n",
    "#That is if the market value rises, investment value falls and vice-versa"
   ]
  }
 ],
 "metadata": {
  "kernelspec": {
   "display_name": "Python 3",
   "language": "python",
   "name": "python3"
  },
  "language_info": {
   "codemirror_mode": {
    "name": "ipython",
    "version": 3
   },
   "file_extension": ".py",
   "mimetype": "text/x-python",
   "name": "python",
   "nbconvert_exporter": "python",
   "pygments_lexer": "ipython3",
   "version": "3.7.1"
  }
 },
 "nbformat": 4,
 "nbformat_minor": 2
}
