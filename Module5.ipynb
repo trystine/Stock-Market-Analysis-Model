{
 "cells": [
  {
   "cell_type": "markdown",
   "metadata": {},
   "source": [
    "# Introduction to the problem\n",
    "<br>\n",
    "Modern Portfolio Theory\n",
    "\n",
    "In this module, We’ll be looking at investment portfolio optimization with python, the fundamental concept of diversificationand the creation of an efficient frontier that can be used by investors to choose specific mixes of assets based oninvestment goals; that is, the trade off between their desired level of portfolio return vs their desired level of portfolio risk.\n",
    "\n",
    "Modern Portfolio Theory (https://www.investopedia.com/terms/m/modernportfoliotheory.asp)\n",
    "suggests that it is possible toconstruct an \"efficient frontier\" of optimal portfolios, offering the maximum possible expected return for a given level of risk.It suggests that it is not enough to look at the expected risk and return of one particular stock. By investing in more than onestock, an investor can reap the benefits of diversification, particularly a reduction in the riskiness of the portfolio. MPTquantifies the benefits of diversification, also known as not putting all of your eggs in one basket.\n"
   ]
  },
  {
   "cell_type": "code",
   "execution_count": 4,
   "metadata": {},
   "outputs": [],
   "source": [
    "import numpy as np\n",
    "import pandas as pd\n",
    "import matplotlib.pyplot as plt\n",
    "\n",
    "#mpt quantifies the benefits of diversificaiton and not putting all your investments into one basket\n"
   ]
  },
  {
   "cell_type": "markdown",
   "metadata": {},
   "source": [
    "<b> Problem Statement 5.1</b>\n",
    "\n",
    "For your chosen stock, calculate the mean daily return and daily standard deviation of returns, and then just annualisethem to get mean expected annual return and volatility of that single stock. ( annual mean = daily mean * 252 , annual stdev= daily stdev * sqrt(252) )"
   ]
  },
  {
   "cell_type": "code",
   "execution_count": 5,
   "metadata": {},
   "outputs": [
    {
     "data": {
      "text/plain": [
       "0      1553.40\n",
       "2      1559.65\n",
       "3      1557.15\n",
       "5      1557.10\n",
       "7      1561.25\n",
       "        ...   \n",
       "604    2322.35\n",
       "605    2307.25\n",
       "606    2290.90\n",
       "607    2296.50\n",
       "608    2287.20\n",
       "Name: Close Price, Length: 494, dtype: float64"
      ]
     },
     "execution_count": 5,
     "metadata": {},
     "output_type": "execute_result"
    }
   ],
   "source": [
    "data=pd.read_csv(\"data/HDFCBANK.csv\")\n",
    "data=data[data.Series=='EQ']\n",
    "data.dropna(inplace=True)\n",
    "data=data['Close Price']\n",
    "data"
   ]
  },
  {
   "cell_type": "code",
   "execution_count": 6,
   "metadata": {},
   "outputs": [
    {
     "name": "stdout",
     "output_type": "stream",
     "text": [
      "The annualised mean return of the stock is 0.21\n",
      "The annualised volatility is 0.15\n"
     ]
    }
   ],
   "source": [
    "returns=data.pct_change()\n",
    "mean_return=returns.mean()\n",
    "return_stdev=returns.std()\n",
    "\n",
    "annualised_return=round(mean_return*252,2)\n",
    "annualised_stdev=round(return_stdev*np.sqrt(252),2)\n",
    "print('The annualised mean return of the stock is', annualised_return)\n",
    "print('The annualised volatility is', annualised_stdev)"
   ]
  },
  {
   "cell_type": "markdown",
   "metadata": {},
   "source": [
    "<b> Problem Statement 5.2 </b>\n",
    "\n",
    "Now, we need to diversify our portfolio. Build your own portfolio by choosing any 5 stocks, preferably of different sectorsand different caps. Assume that all 5 have the same weightage, i.e. 20% . Now calculate the annual returns and volatility ofthe entire portfolio ( Hint : Don't forget to use the covariance )"
   ]
  },
  {
   "cell_type": "code",
   "execution_count": 7,
   "metadata": {},
   "outputs": [
    {
     "data": {
      "text/html": [
       "<div>\n",
       "<style scoped>\n",
       "    .dataframe tbody tr th:only-of-type {\n",
       "        vertical-align: middle;\n",
       "    }\n",
       "\n",
       "    .dataframe tbody tr th {\n",
       "        vertical-align: top;\n",
       "    }\n",
       "\n",
       "    .dataframe thead th {\n",
       "        text-align: right;\n",
       "    }\n",
       "</style>\n",
       "<table border=\"1\" class=\"dataframe\">\n",
       "  <thead>\n",
       "    <tr style=\"text-align: right;\">\n",
       "      <th></th>\n",
       "      <th>TITAN</th>\n",
       "      <th>BAJAJ</th>\n",
       "      <th>TCS</th>\n",
       "      <th>CIPLA</th>\n",
       "      <th>AXIS</th>\n",
       "    </tr>\n",
       "  </thead>\n",
       "  <tbody>\n",
       "    <tr>\n",
       "      <th>0</th>\n",
       "      <td>483.65</td>\n",
       "      <td>1332.95</td>\n",
       "      <td>2365.10</td>\n",
       "      <td>569.00</td>\n",
       "      <td>500.10</td>\n",
       "    </tr>\n",
       "    <tr>\n",
       "      <th>1</th>\n",
       "      <td>488.30</td>\n",
       "      <td>1347.75</td>\n",
       "      <td>2429.15</td>\n",
       "      <td>565.60</td>\n",
       "      <td>501.50</td>\n",
       "    </tr>\n",
       "    <tr>\n",
       "      <th>2</th>\n",
       "      <td>481.75</td>\n",
       "      <td>1324.80</td>\n",
       "      <td>2455.35</td>\n",
       "      <td>562.35</td>\n",
       "      <td>502.80</td>\n",
       "    </tr>\n",
       "    <tr>\n",
       "      <th>3</th>\n",
       "      <td>471.65</td>\n",
       "      <td>1314.55</td>\n",
       "      <td>2536.20</td>\n",
       "      <td>560.10</td>\n",
       "      <td>492.00</td>\n",
       "    </tr>\n",
       "    <tr>\n",
       "      <th>4</th>\n",
       "      <td>471.15</td>\n",
       "      <td>1289.15</td>\n",
       "      <td>2507.15</td>\n",
       "      <td>564.95</td>\n",
       "      <td>501.70</td>\n",
       "    </tr>\n",
       "    <tr>\n",
       "      <th>...</th>\n",
       "      <td>...</td>\n",
       "      <td>...</td>\n",
       "      <td>...</td>\n",
       "      <td>...</td>\n",
       "      <td>...</td>\n",
       "    </tr>\n",
       "    <tr>\n",
       "      <th>493</th>\n",
       "      <td>1104.45</td>\n",
       "      <td>2922.85</td>\n",
       "      <td>2151.95</td>\n",
       "      <td>557.75</td>\n",
       "      <td>735.05</td>\n",
       "    </tr>\n",
       "    <tr>\n",
       "      <th>494</th>\n",
       "      <td>1132.10</td>\n",
       "      <td>2931.85</td>\n",
       "      <td>2152.85</td>\n",
       "      <td>555.55</td>\n",
       "      <td>732.10</td>\n",
       "    </tr>\n",
       "    <tr>\n",
       "      <th>495</th>\n",
       "      <td>1144.70</td>\n",
       "      <td>NaN</td>\n",
       "      <td>2172.55</td>\n",
       "      <td>546.70</td>\n",
       "      <td>NaN</td>\n",
       "    </tr>\n",
       "    <tr>\n",
       "      <th>496</th>\n",
       "      <td>NaN</td>\n",
       "      <td>NaN</td>\n",
       "      <td>2135.80</td>\n",
       "      <td>NaN</td>\n",
       "      <td>NaN</td>\n",
       "    </tr>\n",
       "    <tr>\n",
       "      <th>497</th>\n",
       "      <td>NaN</td>\n",
       "      <td>NaN</td>\n",
       "      <td>2128.75</td>\n",
       "      <td>NaN</td>\n",
       "      <td>NaN</td>\n",
       "    </tr>\n",
       "  </tbody>\n",
       "</table>\n",
       "<p>498 rows × 5 columns</p>\n",
       "</div>"
      ],
      "text/plain": [
       "       TITAN    BAJAJ      TCS   CIPLA    AXIS\n",
       "0     483.65  1332.95  2365.10  569.00  500.10\n",
       "1     488.30  1347.75  2429.15  565.60  501.50\n",
       "2     481.75  1324.80  2455.35  562.35  502.80\n",
       "3     471.65  1314.55  2536.20  560.10  492.00\n",
       "4     471.15  1289.15  2507.15  564.95  501.70\n",
       "..       ...      ...      ...     ...     ...\n",
       "493  1104.45  2922.85  2151.95  557.75  735.05\n",
       "494  1132.10  2931.85  2152.85  555.55  732.10\n",
       "495  1144.70      NaN  2172.55  546.70     NaN\n",
       "496      NaN      NaN  2135.80     NaN     NaN\n",
       "497      NaN      NaN  2128.75     NaN     NaN\n",
       "\n",
       "[498 rows x 5 columns]"
      ]
     },
     "execution_count": 7,
     "metadata": {},
     "output_type": "execute_result"
    }
   ],
   "source": [
    "#from results the return is good but the risk is also as well as high.\n",
    "#single portfolio has a collection of many stocks.\n",
    "\n",
    "#Query 2 has many portfolios of our own\n",
    "\n",
    "d1=pd.read_csv('data/TITAN.csv')\n",
    "d2=pd.read_csv('data/BAJFINANCE.csv')\n",
    "d3=pd.read_csv('data/TCS.csv')\n",
    "d4=pd.read_csv('data/CIPLA.csv')\n",
    "d5=pd.read_csv('data/AXISBANK.csv')\n",
    "d1=d1[d1.Series=='EQ']\n",
    "d2=d2[d2.Series=='EQ']\n",
    "d3=d3[d3.Series=='EQ']\n",
    "d4=d4[d4.Series=='EQ']\n",
    "d5=d5[d5.Series=='EQ']\n",
    "d1.dropna(inplace=True)\n",
    "d2.dropna(inplace=True)\n",
    "d3.dropna(inplace=True)\n",
    "d4.dropna(inplace=True)\n",
    "d5.dropna(inplace=True)\n",
    "data=pd.concat([d1['Close Price'],d2['Close Price'],d3['Close Price'],d4['Close Price'],d5['Close Price']],axis=1)\n",
    "data.columns=['TITAN','BAJAJ','TCS','CIPLA','AXIS']\n",
    "data"
   ]
  },
  {
   "cell_type": "code",
   "execution_count": 8,
   "metadata": {},
   "outputs": [
    {
     "name": "stdout",
     "output_type": "stream",
     "text": [
      "The annualised mean returns of the stock is 0.25\n",
      "The annualised  volatility of the stock is 0.16\n"
     ]
    }
   ],
   "source": [
    "returns=data.pct_change()\n",
    "\n",
    "#calculating mean of daily reutrns and covariance\n",
    "mean_daily_returns=returns.mean()\n",
    "cov_matrix=returns.cov()\n",
    "\n",
    "#setting array field for holding the portfolio weights\n",
    "weights=np.array([0.20,0.20,0.20,0.20,0.20])\n",
    "\n",
    "#calculating annualised portfolio returns\n",
    "portfolio_return=round(np.sum(mean_daily_returns*weights)*252,2)\n",
    "\n",
    "#calculating annualised portfolio volatility\n",
    "portfolio_stdev=round(np.sqrt(np.dot(weights.T, np.dot(cov_matrix,weights)))*np.sqrt(252),2) #multiplying transpose of the weight matrix\n",
    "#with the transpose of the covariance matrix again with the weight and ensuring the dot product\n",
    "\n",
    "print('The annualised mean returns of the stock is',portfolio_return)\n",
    "print('The annualised  volatility of the stock is',portfolio_stdev)\n"
   ]
  },
  {
   "cell_type": "markdown",
   "metadata": {},
   "source": [
    "<b> Problem Statement 5.3 </b>\n",
    "\n",
    "Prepare a scatter plot for differing weights of the individual stocks in the portfolio , the axes being the returns andvolatility. Colour the data points based on the Sharpe Ratio ( Returns/Volatility) of that particular portfolio.\n",
    "\n",
    "<b>Problem Statement 5.4</b>\n",
    "\n",
    "Mark the 2 portfolios where -\n",
    "Portfolio 1 - The Sharpe ratio is the highest\n",
    "Portfolio 2 - The volatility is the lowest."
   ]
  },
  {
   "cell_type": "code",
   "execution_count": 9,
   "metadata": {},
   "outputs": [
    {
     "data": {
      "text/plain": [
       "<matplotlib.collections.PathCollection at 0xe2fc4bbc18>"
      ]
     },
     "execution_count": 9,
     "metadata": {},
     "output_type": "execute_result"
    },
    {
     "data": {
      "image/png": "[encoded data removed]",
      "text/plain": [
       "<Figure size 1440x720 with 2 Axes>"
      ]
     },
     "metadata": {
      "needs_background": "light"
     },
     "output_type": "display_data"
    }
   ],
   "source": [
    "#query 3 and 4\n",
    "from matplotlib.pyplot import figure\n",
    "figure(figsize=(20,10))\n",
    "\n",
    "#set number of runs of random portfolio weights\n",
    "num_portfolios=25000\n",
    "\n",
    "#we have increased the size of the array to hold the weight values for each stock\n",
    "results=np.zeros((3+data.columns.size,num_portfolios))\n",
    "\n",
    "for i in range(num_portfolios):\n",
    "    #select random weights for portfolio holdings\n",
    "    weights=np.array(np.random.random(data.columns.size))\n",
    "    #rebalance the weights to sum 1\n",
    "    weights /=np.sum(weights)\n",
    "    \n",
    "    #calculate portfolio rate and volatility\n",
    "    portfolio_return=round(np.sum(mean_daily_returns*weights)*252,2)\n",
    "    portfolio_stdev=round(np.sqrt(np.dot(weights.T, np.dot(cov_matrix,weights)))*np.sqrt(252),2)\n",
    "    \n",
    "    #storing the results into the results array\n",
    "    results[0,i]=portfolio_return\n",
    "    results[1,i]=portfolio_stdev\n",
    "    \n",
    "    #store the sharpe ration(RETURN/VOLATILITY) -risk free element excluded for simplicity\n",
    "    results[2,i]=results[0,i]/results[1,i]\n",
    "    \n",
    "    #iterate through the weight vector and add data to the results array\n",
    "    for j in range(len(weights)):\n",
    "        results[j+3,i]=weights[j]\n",
    "\n",
    "        \n",
    "#Convert results array to pandas dataframe\n",
    "\n",
    "results_frame=pd.DataFrame(results.T,columns=['ret','stdev','sharpe','TITAN','BAJAJ','TCS','CIPLA','AXIS'])\n",
    "\n",
    "#locate position of portfolio with highest Sharp Ratio\n",
    "\n",
    "max_sharpe_port=results_frame.iloc[results_frame['sharpe'].idxmax()]\n",
    "\n",
    "#Locating position of theportfoliowith minimum standard deviation\n",
    "\n",
    "min_vol_port=results_frame.iloc[results_frame['stdev'].idxmin()]\n",
    "\n",
    "#Creating scatter plot coloured by sharpe ratio\n",
    "\n",
    "plt.scatter(results_frame.stdev,results_frame.ret,c=results_frame.sharpe,cmap='RdYlBu')\n",
    "plt.xlabel('Volatility')\n",
    "plt.ylabel('Returns')\n",
    "plt.colorbar()\n",
    "\n",
    "#plotting red star to highlight positionof the portfolio witht the highest sharpe ratio\n",
    "plt.scatter(max_sharpe_port[1],max_sharpe_port[0],marker=(5,1,0),color='r',s=200)\n",
    "\n",
    "#plotting green star to highlight the position of minimum variance in the portfolio\n",
    "\n",
    "plt.scatter(min_vol_port[1],min_vol_port[0],marker=(5,1,0),color='g',s=200)\n",
    "\n",
    "\n"
   ]
  }
 ],
 "metadata": {
  "kernelspec": {
   "display_name": "Python 3",
   "language": "python",
   "name": "python3"
  },
  "language_info": {
   "codemirror_mode": {
    "name": "ipython",
    "version": 3
   },
   "file_extension": ".py",
   "mimetype": "text/x-python",
   "name": "python",
   "nbconvert_exporter": "python",
   "pygments_lexer": "ipython3",
   "version": "3.7.1"
  }
 },
 "nbformat": 4,
 "nbformat_minor": 2
}
